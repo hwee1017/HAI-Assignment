{
 "cells": [
  {
   "cell_type": "code",
   "execution_count": null,
   "metadata": {},
   "outputs": [
    {
     "name": "stdout",
     "output_type": "stream",
     "text": [
      "0   -0.811015\n",
      "1   -0.087237\n",
      "2   -0.852922\n",
      "3    1.071743\n",
      "4    0.734107\n",
      "Name: 매출편차, dtype: float64\n",
      "     날짜      매출편차  손님 평균 연령\n",
      "0  3/20 -0.811015        42\n",
      "1  3/21 -0.087237        34\n",
      "2  3/22 -0.852922        23\n",
      "3  3/23  1.071743        47\n",
      "4  3/24  0.734107        56\n",
      "     날짜      매출편차  손님 평균 연령\n",
      "0  3/20 -0.811015      42.0\n",
      "1  3/21 -0.087237      34.0\n",
      "2  3/22       NaN      23.0\n",
      "3  3/23  1.071743      47.0\n",
      "4  3/24  0.734107       NaN\n",
      "<bound method DataFrame.isnull of      날짜      매출편차  손님 평균 연령\n",
      "0  3/20 -0.811015      42.0\n",
      "1  3/21 -0.087237      34.0\n",
      "2  3/22       NaN      23.0\n",
      "3  3/23  1.071743      47.0\n",
      "4  3/24  0.734107       NaN>\n",
      "     날짜      매출편차  손님 평균 연령\n",
      "0  3/20 -0.811015      42.0\n",
      "1  3/21 -0.087237      34.0\n",
      "2  3/22       NaN      23.0\n",
      "3  3/23  1.071743      47.0\n",
      "4  3/24  0.734107       NaN\n"
     ]
    }
   ],
   "source": [
    "import pandas as pd\n",
    "import numpy as np\n",
    "\n",
    "data = {\n",
    "    '날짜' : ['3/20', '3/21', '3/22', '3/23', '3/24'],\n",
    "    '매출편차' : np.random.randn(5),\n",
    "    '손님 평균 연령' : np.random.randint(10,60,5)\n",
    "}\n",
    "df = pd.DataFrame(data)\n",
    "print(df[\"매출편차\"])\n",
    "print(df[df[\"손님 평균 연령\"]>=20])\n",
    "df.loc[2,\"매출편차\"] = np.nan\n",
    "df.iloc[4,2] = np.nan\n",
    "print(df.isnull)\n",
    "df.fillna(0)\n",
    "df.fillna(df['손님 평균 연령'].mean())\n",
    "print(df)"
   ]
  }
 ],
 "metadata": {
  "kernelspec": {
   "display_name": "myevn",
   "language": "python",
   "name": "python3"
  },
  "language_info": {
   "codemirror_mode": {
    "name": "ipython",
    "version": 3
   },
   "file_extension": ".py",
   "mimetype": "text/x-python",
   "name": "python",
   "nbconvert_exporter": "python",
   "pygments_lexer": "ipython3",
   "version": "3.10.16"
  }
 },
 "nbformat": 4,
 "nbformat_minor": 2
}
