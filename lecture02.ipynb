{
 "cells": [
  {
   "cell_type": "code",
   "execution_count": 3,
   "metadata": {},
   "outputs": [
    {
     "name": "stdout",
     "output_type": "stream",
     "text": [
      "0   -0.368891\n",
      "1   -1.100410\n",
      "2    0.079487\n",
      "3   -1.538651\n",
      "4    1.154287\n",
      "Name: 매출편차, dtype: float64\n",
      "     날짜      매출편차  손님 평균 연령\n",
      "0  3/20 -0.368891        37\n",
      "1  3/21 -1.100410        46\n",
      "3  3/23 -1.538651        51\n",
      "4  3/24  1.154287        26\n",
      "<bound method DataFrame.isnull of      날짜      매출편차  손님 평균 연령\n",
      "0  3/20 -0.368891      37.0\n",
      "1  3/21 -1.100410      46.0\n",
      "2  3/22       NaN      18.0\n",
      "3  3/23 -1.538651      51.0\n",
      "4  3/24  1.154287       NaN>\n",
      "     날짜       매출편차  손님 평균 연령\n",
      "0  3/20  -0.368891      37.0\n",
      "1  3/21  -1.100410      46.0\n",
      "2  3/22  38.000000      18.0\n",
      "3  3/23  -1.538651      51.0\n",
      "4  3/24   1.154287      38.0\n",
      "     날짜      매출편차  손님 평균 연령\n",
      "0  3/20 -0.368891      37.0\n",
      "1  3/21 -1.100410      46.0\n",
      "2  3/22       NaN      18.0\n",
      "3  3/23 -1.538651      51.0\n",
      "4  3/24  1.154287       NaN\n"
     ]
    }
   ],
   "source": [
    "import pandas as pd\n",
    "import numpy as np\n",
    "\n",
    "data = {\n",
    "    '날짜' : ['3/20', '3/21', '3/22', '3/23', '3/24'],\n",
    "    '매출편차' : np.random.randn(5),\n",
    "    '손님 평균 연령' : np.random.randint(10,60,5)\n",
    "}\n",
    "df = pd.DataFrame(data)\n",
    "print(df[\"매출편차\"])\n",
    "print(df[df[\"손님 평균 연령\"]>=20])\n",
    "df.loc[2,\"매출편차\"] = np.nan\n",
    "df.iloc[4,2] = np.nan\n",
    "print(df.isnull)\n",
    "df.fillna(0)\n",
    "print(df.fillna(df['손님 평균 연령'].mean()))\n",
    "print(df)"
   ]
  }
 ],
 "metadata": {
  "kernelspec": {
   "display_name": "myevn",
   "language": "python",
   "name": "python3"
  },
  "language_info": {
   "codemirror_mode": {
    "name": "ipython",
    "version": 3
   },
   "file_extension": ".py",
   "mimetype": "text/x-python",
   "name": "python",
   "nbconvert_exporter": "python",
   "pygments_lexer": "ipython3",
   "version": "3.10.16"
  }
 },
 "nbformat": 4,
 "nbformat_minor": 2
}
